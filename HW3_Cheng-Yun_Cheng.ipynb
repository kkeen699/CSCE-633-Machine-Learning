{
  "nbformat": 4,
  "nbformat_minor": 0,
  "metadata": {
    "colab": {
      "provenance": [],
      "collapsed_sections": [
        "TFGRjOOnhK0S"
      ]
    },
    "kernelspec": {
      "name": "python3",
      "display_name": "Python 3"
    }
  },
  "cells": [
    {
      "cell_type": "markdown",
      "metadata": {
        "id": "5D48bskJS25M"
      },
      "source": [
        "# CSCE633 Fall 2022 (Total 100 pts) - change filename to include your name\n",
        "\n",
        "**Machine Learning**\n",
        "\n",
        "**Homework 3**\n",
        "\n",
        "Instructor: Yoonsuck Choe\n",
        "\n",
        "October 16, 2022\n",
        "\n",
        "\n",
        "---"
      ]
    },
    {
      "cell_type": "markdown",
      "metadata": {
        "id": "PTadtehSTEem"
      },
      "source": [
        "**Student name:** Cheng, Cheng-Yun\n",
        "\n",
        "\n",
        "---"
      ]
    },
    {
      "cell_type": "markdown",
      "metadata": {
        "id": "seH0_JOMTS2c"
      },
      "source": [
        "# Common instructions (Read carefully)\n",
        "\n",
        "Hint: \n",
        "* Go to View $\\rightarrow$ Collapse sections to quickly jump to the problems you are working on. \n",
        "* Click triple line icon near the top left to see the table of contents for quick navigation.\n"
      ]
    },
    {
      "cell_type": "markdown",
      "metadata": {
        "id": "VRafXus3T2bg"
      },
      "source": [
        "**Submission:**\n",
        "\n",
        "1. Rename the file to **633-22fall Machine Learning HW3 - lastname firstname.ipynb**.\n",
        "2. After you complete each section, \"Save and pin\" the revision. (**File -> Save and pin revision**). \n",
        "> There will be a 20-point penalty for not including revision history in the submission as instructed below.\n",
        "3. When you're ready to submit, \n",
        "> 1. download the ipynb file (**File -> Download .ipynb**).\n",
        "> 2. take screenshot of revision history, by comparing each successive pinned revisions (there will be several of these: final vs. latest pin, latest pin vs. previous pin, etc.). (**File -> Revision history**, then click on the radio buttons for pinned revisions to compare. Scroll down to the part that shows the major revised part, and take a screenshot. No need to show the entire revision history.)\n",
        ">> Important: Unselect \"[ ] Show output\" to suppress diff of execution outputs.\n",
        ">> Jupyter notebook: If you're using Jupyter notebook on your local machine, run %history -g -f filename.log  and submit the log file. \n",
        "> 3. submit a zip file **lastname-firstname.zip** containing the ipynb file and all revision screenshots.\n",
        "\n",
        "**Using the markdown language in the \"text\" boxes:**\n",
        "\n",
        "Note: See https://colab.research.google.com/notebooks/markdown_guide.ipynb#scrollTo=70pYkR9LiOV0 for how to use the markdown when writing your answer in the text boxes.\n",
        "\n",
        "\n",
        "**NEW: Including images/screenshots**\n",
        "\n",
        "When including screenshots directly into the text cell, the markup source can get too long. To avoid this, you can upload your images to google drive, make them publicly viewable, get the share link, get the id string  from the link (for example, 1IDUkDGqQ1xSKOT3Wg8SKgAlKsDIdUQUy), and insert a tag like below:  \n",
        "```\n",
        "<img src=\"https://drive.google.com/uc?export=view&id=1IDUkDGqQ1xSKOT3Wg8SKgAlKsDIdUQUy\"> \n",
        "```\n"
      ]
    },
    {
      "cell_type": "markdown",
      "metadata": {
        "id": "M2s4WcOkUAWc"
      },
      "source": [
        "# Section I: Entropy"
      ]
    },
    {
      "cell_type": "markdown",
      "metadata": {
        "id": "4cb72f6wUDVz"
      },
      "source": [
        "Given a random variable $X$ that can take on values $\\{ \\oplus, \\ominus \\}$,\n",
        "the entropy is defined as:\n",
        "\n",
        "$$E(X) = - \\sum_{x \\in \\{\\oplus, \\ominus\\}} P(X=x) \\log_2 P(X=x).$$\n",
        "\n",
        "Since $P(X=\\oplus) + P(X=\\ominus) = 1$, $E(X)$ can be rewritten as a function of $P(X=\\oplus)$, substituting $P(X=\\ominus)$ with $1-P(X=\\oplus)$.\n",
        "\n",
        "Letting $p_\\oplus = P(X=\\oplus)$ in short:\n",
        "$$ E(X) = f(p_\\oplus) = -p_\\oplus \\log_2 p_\\oplus - (1-p_\\oplus) \\log_2 (1 - p_\\oplus). $$ Figure below shows how $f(p_\\oplus)$ behaves as $p_\\oplus$ changes.\n",
        "\n",
        "<figure>\n",
        "<center>\n",
        "<img \n",
        " src=\"https://drive.google.com/uc?export=view&id=1PRpDVWLHnLgs0GQyUU-L-_oAteRUKdM_\" height=\"300px\"> \n",
        "<figcaption>Figure 1. Entropy</figcaption></center>\n",
        "</figure>"
      ]
    },
    {
      "cell_type": "markdown",
      "source": [
        "# Problem 1 (Written: 5 pts)"
      ],
      "metadata": {
        "id": "R3O8xnfjJWWK"
      }
    },
    {
      "cell_type": "markdown",
      "metadata": {
        "id": "k4vN-kIzbuaB"
      },
      "source": [
        "**Problem 1 (Written: 5 pts):**\n",
        "\n",
        "Extend the above analysis to a random variable $Y$ that can take on values\n",
        "$\\{ \\alpha, \\beta, \\gamma \\}$. Given $p_\\alpha = P(Y = \\alpha)$, etc.,\n",
        "\n",
        "(1) Derive $E(Y)$ as a function of $p_\\alpha$ and $p_\\beta$:\n",
        "\n",
        "$$E(Y) = f(p_\\alpha, p_\\beta) = ... $$\n",
        "\n",
        "Note: $p_\\alpha+p_\\beta+p_\\gamma = 1.0$.\n",
        "\n",
        "(2) For which values of  $p_\\alpha$ and $p_\\beta$ \n",
        "does $E(Y)$ become maximal (no need to derive it exactly from $f(p_\\alpha,p_\\beta)$--consider\n",
        "when it is maximal in the 2-value case)? You don't need to derive this from the equation. Just use your intuition.\n",
        "\n",
        "(3) Explain why (you don't need to provide a formal proof).\n"
      ]
    },
    {
      "cell_type": "markdown",
      "metadata": {
        "id": "_D1lKKeuhgTe"
      },
      "source": [
        "**Answer:**\n",
        "\n",
        "(1) $E(Y) = f(p_\\alpha, p_\\beta) = -p_α log_2 p_α - p_β log_2 p_β -(1 - p_α - p_β) log_2 (1 - p_α - p_β)$\n",
        "\n",
        "(2) $p_α = \\frac{1}{3}, p_β = \\frac{1}{3}$\n",
        "\n",
        "(3) Entropy measures the average uncertainty of events. When $p_α = \\frac{1}{3}, p_β = \\frac{1}{3},$and $p_γ = \\frac{1}{3}$, the random variable Y is the most uncertain. "
      ]
    },
    {
      "cell_type": "markdown",
      "source": [
        "# Problem 2 (Program: 20 pts)"
      ],
      "metadata": {
        "id": "au9uzvGzJmbH"
      }
    },
    {
      "cell_type": "markdown",
      "metadata": {
        "id": "xfS8XRDNfOwu"
      },
      "source": [
        "**Problem 2 (Program: 20 pts)**\n",
        "\n",
        "Write a short program to calculate $f(p_\\alpha, p_\\beta)$ derived above,\n",
        "and obtain the $E(Y) = f(p_\\alpha, p_\\beta)$ values for all combinations of $p_\\alpha, p_\\beta \\in \\{ 0.0, 0.01, 0.02, ... , 0.99, 1.0 \\}$, and plot in 3D (python: plot_surface; or draw by hand). You have to be careful because:\n",
        "\n",
        "* log(0) will throw an error, so you have to check for the occurrence of (0 * log(0)) and make that 0 before log(0) gets evaluated. Alternatively, you can start with a value close to 0: 0.001, 0.01, 0.02,  ..., 0.99, 1.0.\n",
        "\n",
        "* Also, you have to plot for the $(p_\\alpha, p_\\beta)$ that sums up to less than or equal to 1.0 (because $p_\\alpha + p_\\beta + p_\\gamma =1$ must be maintained, and if $p_\\alpha + p_\\beta > 1$, then this constraint cannot be maintained)."
      ]
    },
    {
      "cell_type": "code",
      "metadata": {
        "colab": {
          "base_uri": "https://localhost:8080/",
          "height": 531
        },
        "id": "ShNk3vC6htc8",
        "outputId": "d1cb8c6e-72fd-40c1-9a8e-573253acfb97"
      },
      "source": [
        "# Write your code here.\n",
        "\n",
        "import numpy as np\n",
        "import matplotlib.pyplot as plt\n",
        "\n",
        "#-------------------\n",
        "# Entropy function f(Pa,Pb) = E(Y)\n",
        "#-------------------\n",
        "def f(Pa,Pb):\n",
        "  # IMPLEMENT THIS: replace this dummy function with the actual E()\n",
        "  # - be careful with log(0) (cases when either Pa or Pb is 0)\n",
        "  def cal(p):\n",
        "    if p == 0:\n",
        "      return 0\n",
        "    else:\n",
        "      return p*np.log2(p)\n",
        "\n",
        "  if 1-Pa-Pb < 0:\n",
        "    return np.nan\n",
        "  else:\n",
        "    return -(cal(Pa) + cal(Pb) + cal(1-Pa-Pb))\n",
        "\n",
        "#-------------------\n",
        "# Plot \n",
        "#-------------------\n",
        "x = np.arange(0.0, 1.0, 0.01)\n",
        "y = np.arange(0.0, 1.0, 0.01)\n",
        "xx, yy = np.meshgrid(x, y)\n",
        "zz = xx.copy()\n",
        "for i in range(xx.shape[0]):\n",
        "  for j in range(xx.shape[0]):\n",
        "    zz[i][j] = f(xx[i][j], yy[i][j])\n",
        "#------\n",
        "# 3D surface plot\n",
        "#------\n",
        "\n",
        "fig = plt.figure()\n",
        "ax = fig.add_subplot(111, projection='3d')\n",
        "ax.plot_surface(xx,yy,zz,zorder=0)\n",
        "\n",
        "# Mark point where E is maximum. \n",
        "ax.plot([0.333],[0.333],[f(0.333,0.333)],marker=\"x\",markerfacecolor=\"red\",markersize=20, markeredgecolor=\"red\",zorder=10)\n",
        "\n",
        "#------\n",
        "# show contour plot as well\n",
        "#------\n",
        "\n",
        "fig2 = plt.figure()\n",
        "ax2 = fig2.add_subplot()\n",
        "ax2.contour(xx,yy,zz)\n",
        "# Mark point where E is maximum. \n",
        "\n",
        "ax2.plot(0.333,0.333,marker=\"x\",markerfacecolor=\"red\",markersize=20, markeredgecolor=\"red\")"
      ],
      "execution_count": 27,
      "outputs": [
        {
          "output_type": "stream",
          "name": "stderr",
          "text": [
            "/usr/local/lib/python3.7/dist-packages/ipykernel_launcher.py:39: UserWarning: Z contains NaN values. This may result in rendering artifacts.\n"
          ]
        },
        {
          "output_type": "execute_result",
          "data": {
            "text/plain": [
              "[<matplotlib.lines.Line2D at 0x7f6f80c93e10>]"
            ]
          },
          "metadata": {},
          "execution_count": 27
        },
        {
          "output_type": "display_data",
          "data": {
            "text/plain": [
              "<Figure size 432x288 with 1 Axes>"
            ],
            "image/png": "[encoded data removed]"
          },
          "metadata": {
            "needs_background": "light"
          }
        },
        {
          "output_type": "display_data",
          "data": {
            "text/plain": [
              "<Figure size 432x288 with 1 Axes>"
            ],
            "image/png": "[encoded data removed]"
          },
          "metadata": {
            "needs_background": "light"
          }
        }
      ]
    },
    {
      "cell_type": "code",
      "metadata": {
        "colab": {
          "base_uri": "https://localhost:8080/",
          "height": 282
        },
        "id": "rHxGg7QtiIf_",
        "outputId": "5b066914-79bc-43ba-ad85-53e8ebeabd59"
      },
      "source": [
        "mask=xx+yy<=1\n",
        "ff=zz\n",
        "\n",
        "fig3 = plt.figure()\n",
        "ax3 = fig3.add_subplot()\n",
        "\n",
        "# multiply with mask to get rid of invalid region\n",
        "ax3.contour(xx,yy,ff*mask)\n",
        "\n",
        "# plot\n",
        "ax3.plot(0.333,0.333,marker=\"x\",markerfacecolor=\"red\",markersize=20, markeredgecolor=\"red\")\n"
      ],
      "execution_count": 15,
      "outputs": [
        {
          "output_type": "execute_result",
          "data": {
            "text/plain": [
              "[<matplotlib.lines.Line2D at 0x7f6f80c33950>]"
            ]
          },
          "metadata": {},
          "execution_count": 15
        },
        {
          "output_type": "display_data",
          "data": {
            "text/plain": [
              "<Figure size 432x288 with 1 Axes>"
            ],
            "image/png": "[encoded data removed]"
          },
          "metadata": {
            "needs_background": "light"
          }
        }
      ]
    },
    {
      "cell_type": "markdown",
      "source": [
        "# Problem 3 (Written: 5 pts)"
      ],
      "metadata": {
        "id": "5VBKeydgJveY"
      }
    },
    {
      "cell_type": "markdown",
      "metadata": {
        "id": "yeCesZ87gQ1b"
      },
      "source": [
        "**Problem 3 (Written: 5 pts)**\n",
        "\n",
        "Based on the insight from above, when you have a random variable $X$ that can take on\n",
        "four different discrete values (say, $\\{a, b, c, d\\}$), then (1) what should \n",
        "$P(X=a)$ etc. be so that the entropy of $X$ is maximized? (2) Also, what is the\n",
        "value of the maximum entropy? (Note: You don't need to provide a formal proof. Simply generalize from what you know for the two value case: $\\oplus$ and $\\ominus$.)\n"
      ]
    },
    {
      "cell_type": "markdown",
      "metadata": {
        "id": "O7vO9Rw1l802"
      },
      "source": [
        "**Answer:**\n",
        "\n",
        "(1) $P(X=a) = \\frac{1}{4}, P(X=b) = \\frac{1}{4}, P(X=c) = \\frac{1}{4}, P(X=d) = \\frac{1}{4}$\n",
        "\n",
        "(2) $E(X) = -(\\frac{1}{4} log_2 \\frac{1}{4}) × 4 = 2$\n"
      ]
    },
    {
      "cell_type": "markdown",
      "metadata": {
        "id": "TFGRjOOnhK0S"
      },
      "source": [
        "# Section II: Decision Tree Learning\n",
        "\n",
        "Consider the data set below (Table 1), for problems 4 and 5. Note: Problem 6 has a different data set.\n",
        "\n",
        "<b>TABLE 1</b>\n",
        "\n",
        "||HP|Drivetrain|Body|Price|Target|\n",
        "|---:|:---|:---|:---|:---|:---|\n",
        "|0|low|rwd|sedan|high|N|\n",
        "|1|medium|awd|hatchback|low|Y|\n",
        "|2|high|fwd|suv|high|Y|\n",
        "|3|low|fwd|sedan|low|N|\n",
        "|4|high|awd|hatchback|low|Y|\n",
        "|5|high|rwd|suv|low|N|\n",
        "|6|high|awd|hatchback|high|Y|\n",
        "|7|medium|fwd|suv|low|N|\n",
        "|8|low|fwd|suv|high|N|\n",
        "|9|high|awd|suv|high|Y|\n",
        "|10|medium|awd|sedan|low|Y|\n",
        "|11|high|fwd|hatchback|low|Y|\n",
        "|12|low|awd|sedan|low     |Y|"
      ]
    },
    {
      "cell_type": "markdown",
      "source": [
        "# Problem 4 (Written: 20 pts)"
      ],
      "metadata": {
        "id": "vRiYDxhdJ3c3"
      }
    },
    {
      "cell_type": "markdown",
      "metadata": {
        "id": "aQ351D9ch40w"
      },
      "source": [
        "**Problem 4 (Written: 20 pts)**\n",
        "\n",
        "Consider Table 1. above. \n",
        "\n",
        "Calculate the following **by hand** and show all intermediate results \n",
        "(you may use a calculator for intermediate numerical results).\n",
        "\n",
        "\n",
        "(1) Calculate the entropy of the training set above. Hint: count positive and negative samples, and get their probabilities $p_\\oplus$ and $p_\\ominus$.\n",
        "\n",
        "(2) Calculate the information gain for each of the four attributes. Hint: split the data set based on the attribute values for each attribute, and compute the information gain. For example, for the **Drivetrain** attribute, there are three possible values: awd, fwd, and rwd. \n",
        "\n",
        "(3) Which one is the best attribute to test first?"
      ]
    },
    {
      "cell_type": "markdown",
      "metadata": {
        "id": "sBRsBWginknm"
      },
      "source": [
        "**Answer:**\n",
        "\n",
        "(1) $E = -\\frac{8}{13} log_2 \\frac{8}{13} -\\frac{5}{13} log_2 \\frac{5}{13} = 0.961$\n",
        "\n",
        "(2) ![](https://drive.google.com/uc?export=view&id=1f3fX3nwvGeYcgn1H9Q8F__BWhk_MxtUY)  \n",
        "\n",
        "(3) Drivetrain is the best attribute to test first."
      ]
    },
    {
      "cell_type": "markdown",
      "source": [
        "# Problem 5 (Program: 25 pts)"
      ],
      "metadata": {
        "id": "5nKFrfyeKZvR"
      }
    },
    {
      "cell_type": "markdown",
      "metadata": {
        "id": "yw8DSNU7k7Uj"
      },
      "source": [
        "**Problem 5 (Program: 25 pts)**\n",
        "Again, consider the data set in  Table 1 above.\n",
        "\n",
        "(1) Write a short program to compute the information gain, given the original data set's postive/negative sample count, and the resulting branches based on the attribute values and their positive/negative sample counts. Below is a stub code, which shows the testing scenario with the situation similar to the illustration shown in the figure below (Figure 2). Note that the \"after\" matrix can have an arbitrary number of rows (for example, if the attribute has three possible values, there will be three rows in the matrix). The function must \n",
        "\n",
        "1. support attributes with an arbitrary number of attribute values, and \n",
        "2. check for error in the arguments (if +/- count before and after all sums up to be the same).\n",
        "\n",
        "(2) Using the data set in Table 1, for all four attributes, compute the info gain for each, using your info_gain() function, and report the resulting values.\n",
        "\n",
        "(3) After choosing the best attribute from step (2), repeat the process for the resulting branches (the subsets), to select the next attribute to test for each branch. If some branch is already a leaf, no need to repeat the info_gain computation.\n",
        "\n",
        "<figure>\n",
        "<center>\n",
        "<img \n",
        " src=\"https://drive.google.com/uc?export=view&id=1mzt9xb2L7Xwf7Ka6vrt51b_Ws58M-zPT\" height=\"450px\"> \n",
        "<figcaption><b>Figure 2.</b> Information Gain example. Present your results in this style.</figcaption></center>\n",
        "</figure>\n"
      ]
    },
    {
      "cell_type": "markdown",
      "metadata": {
        "id": "BdxIe9msxAi3"
      },
      "source": [
        "**Answer:** \n",
        "\n",
        "(1) Fill out the code cell below\n",
        "\n",
        "(2) Info gain for \n",
        "* HP : info gain = 0.200\n",
        "* Drivetrain : info gain = 0.588\n",
        "* Body : info gain = 0.280\n",
        "* Price : info gain = 0.000  \n",
        "\n",
        "Choose Drivetrain as the first attribute.\n",
        "\n",
        "(3) Best attribute from step (2) = Drivetrain \n",
        "* Branch: Drivetrain = fwd \n",
        "  * HP: info gain = 0.971\n",
        "  * Body: info gain = 0.420\n",
        "  * Price: info gain = 0.020   \n",
        "\n",
        "  Choose HP as the second attribute.\n",
        "  \n",
        "![](https://drive.google.com/uc?export=view&id=19tC8hQN0b4sniZB5WGtLwNuQ2AmHc5UV) "
      ]
    },
    {
      "cell_type": "code",
      "metadata": {
        "id": "kr3SWgmboBuE"
      },
      "source": [
        "# Problem 5 Code \n",
        "\n",
        "import numpy as np\n",
        "import matplotlib.pyplot as plt\n",
        "\n",
        "# IMPLEMENT THE FUNCTIONS BELOW\n",
        "\n",
        "# 1. define your entropy function here. Note: this has to be defined specifically for this case: p+ and p-. \n",
        "#  The entropy function defined in problem 2 is for three possible values, not +/-.  \n",
        "def Entropy(P_plus):\n",
        "  P_minus = 1-P_plus\n",
        "  if P_plus * P_minus != 0:\n",
        "    return -1 * (P_plus*np.log2(P_plus) + P_minus*np.log2(P_minus))\n",
        "  else:\n",
        "    return 0\n",
        "  # You need to treat edge cases when P_plus = 0.0 or 1.0. \n",
        "  # return ... some function of P_plus and P_minus.  \n",
        "\n",
        "# alternatively, you can define it like below.\n",
        "def Entropy2(num_positive, num_negative):\n",
        "  total = num_positive + num_negative\n",
        "  if total == 0:\n",
        "    return 0\n",
        "  P_plus = num_positive / total\n",
        "  return Entropy(P_plus)\n",
        "  \n",
        "\n",
        "# 2. define your info_gain function here \n",
        "def info_gain(before, after):\n",
        "\n",
        "  # \"before\" is a vector of two values = [#positive, #negative]\n",
        "  # \"after\" is a matrix of n rows and 2 columns. Each row corresponds to the attribute value, and the columns correspond to #positive, #negative.\n",
        "  # print(\"Before testing:\")\n",
        "  # print(before)\n",
        "  \n",
        "  # print(\"After testing:\")\n",
        "  # print(after)\n",
        "\n",
        "  # You have to define the value below.\n",
        "  # You cannot directly plug in the +,- value vector into the Entropy function.\n",
        "  # You have to first convert the +,- values to probabilities p+ and p-.\n",
        "  #  \n",
        "  # gain = .....\n",
        "  # \n",
        "  # - the example below just returns a default value.\n",
        "\n",
        "  # check number of positive/negative data in before and after\n",
        "  n_after = np.sum(after, axis=0)\n",
        "  if before[0] != n_after[0]:\n",
        "    print(\"number of positive data dose not match\")\n",
        "  if before[1] != n_after[1]:\n",
        "    print(\"number of negative data dose not match\")\n",
        "\n",
        "  n_source = sum(before)\n",
        "  gain = Entropy2(before[0], before[1])\n",
        "  for (positive, negative) in after:\n",
        "    n_attribute = positive + negative\n",
        "    gain -= Entropy2(positive, negative) * (n_attribute/n_source)\n",
        "  return gain\n",
        "\n",
        "# 3. Test function (see Figure 2 above)\n",
        "#\n",
        "# These values are exactly the same as the values in Figure 2, so you can check your results against the \n",
        "# results shown in Figure 2.\n",
        "\n",
        "# before = np.array([9,5])  # +9, -5 is entered like this (9 positive,5 negative samples)\n",
        "# after  = np.array([[3,4], [6,1]]) # two rows, for two attribute values High and Normal, +3/-4 and +6/-1 \n",
        "# info_gain(before, after)\n",
        "\n",
        "# Or, you can just call it like this: \n",
        "# info_gain([9,5], [[3,4], [6,1]])\n"
      ],
      "execution_count": 28,
      "outputs": []
    },
    {
      "cell_type": "code",
      "source": [
        "dic = {\"HP\": [[8,5], [[1,3],[2,1],[5,1]]], \n",
        "       \"Drivetrain\": [[8,5], [[0,2],[6,0],[2,3]]], \n",
        "       \"Body\": [[8,5], [[2,2],[4,0],[2,3]]], \n",
        "       \"Price\": [[8,5], [[5,3],[3,2]]]}\n",
        "gain = 0\n",
        "attribute = None\n",
        "for atb in dic:\n",
        "  g = info_gain(dic[atb][0], dic[atb][1])\n",
        "  print(f\"{atb:10}: Info gain = {g:.3f}\")\n",
        "  if g > gain:\n",
        "    gain = g\n",
        "    attribute = atb\n",
        "print(f\"\\nChoose {attribute} as the first attribute.\")"
      ],
      "metadata": {
        "colab": {
          "base_uri": "https://localhost:8080/"
        },
        "id": "nLU39obmkrGz",
        "outputId": "83becd03-83b8-4c08-9fea-47eccebbb6d9"
      },
      "execution_count": 17,
      "outputs": [
        {
          "output_type": "stream",
          "name": "stdout",
          "text": [
            "HP        : Info gain = 0.200\n",
            "Drivetrain: Info gain = 0.588\n",
            "Body      : Info gain = 0.280\n",
            "Price     : Info gain = 0.000\n",
            "\n",
            "Choose Drivetrain as the first attribute.\n"
          ]
        }
      ]
    },
    {
      "cell_type": "code",
      "source": [
        "dic = {\"HP\": [[2,3], [[0,2],[0,1],[2,0]]],\n",
        "       \"Body\": [[2,3], [[0,1],[1,0],[1,2]]],\n",
        "       \"Price\": [[2,3], [[1,2],[1,1]]]}\n",
        "gain = 0\n",
        "attribute = None\n",
        "for atb in dic:\n",
        "  g = info_gain(dic[atb][0], dic[atb][1])\n",
        "  print(f\"{atb:5}: Info gain = {g:.3f}\")\n",
        "  if g > gain:\n",
        "    gain = g\n",
        "    attribute = atb\n",
        "print(f\"\\nChoose {attribute} as the second attribute.\")"
      ],
      "metadata": {
        "colab": {
          "base_uri": "https://localhost:8080/"
        },
        "id": "i4qFoc5_m-kO",
        "outputId": "e146d47f-87d4-48f0-eed0-9d0bb7806234"
      },
      "execution_count": 18,
      "outputs": [
        {
          "output_type": "stream",
          "name": "stdout",
          "text": [
            "HP   : Info gain = 0.971\n",
            "Body : Info gain = 0.420\n",
            "Price: Info gain = 0.020\n",
            "\n",
            "Choose HP as the second attribute.\n"
          ]
        }
      ]
    },
    {
      "cell_type": "markdown",
      "source": [
        "\n",
        "# Problem 6 (Written + Program: 25 pts)"
      ],
      "metadata": {
        "id": "Nwv-x4ENLjac"
      }
    },
    {
      "cell_type": "markdown",
      "metadata": {
        "id": "pY-hX8jtpknb"
      },
      "source": [
        "**Problem 6 (Written + Program: 25 pts)**\n",
        "\n",
        "In this problem, you will use the scikit-learn package.\n",
        "\n",
        "Apply your info_gain function to analyze the following data set (TABLE 2) and report the results. Note that this is a different data set. All attributes can only have two values, due to the scikit-learn's implementation. \n",
        "\n",
        "(1) Repeat the steps in Problem 5(2) applied to data in Table 2 below. Show the output of your info_gain function. For this, use your program from problem 5, not scikit-learn.\n",
        "\n",
        "(2) Repeat the steps in Problem 5(3) applied to data in Table 2 below. Show the output of your info_gain function. For this, use your program from problem 5, not scikit-learn.\n",
        "\n",
        "(3) Verify your results using scikit-learn's decision tree algorithm (code provided below), test the results and compare with your results in (1) and (2) right above.\n",
        "  *  Note: scikit-learn does not support multi-value attributes (thus all the branches are binary). The data set below is set up so that you can use sci-kit-learn (you cannot use scikit-learn for the data in Table 1, since it includes multi-value attributes). \n",
        "\n",
        "**NOTE: the data set may look similar to the one in the slides, but it is not identical, so the results will be different. **\n",
        "\n",
        "<b>TABLE 2</b>\n",
        "\n",
        "\n",
        "\n",
        "|HP| Drivetrain| Body| Price| Target|\n",
        "|---:|:---|:---|:---|:---|\n",
        "|low| rwd| suv| high| N|\n",
        "|high| fwd| suv| high| Y|\n",
        "|low| rwd| hatchback| low| N|\n",
        "|high| fwd| hatchback| low| Y|\n",
        "|high| rwd| suv| low| N|\n",
        "|high| fwd| suv| low| N|\n",
        "|low| fwd | hatchback| high| Y|\n",
        "|low| fwd| hatchback | low| Y|\n"
      ]
    },
    {
      "cell_type": "markdown",
      "metadata": {
        "id": "zlwQVDo40vqD"
      },
      "source": [
        "**Answer:**\n",
        "\n",
        "(1) Info gain for \n",
        "* HP: info gain = 0.000\n",
        "* Drivetrain: info gain = 0.549\n",
        "* Body: info gain = 0.189\n",
        "* Price: info gain = 0.049  \n",
        "\n",
        "Choose Drivetrain as the first attribute.  \n",
        "\n",
        "(2)\n",
        "* Branch: Drivetrain = fwd\n",
        "  * HP: info gain = 0.171\n",
        "  * Body: info gain =  0.322\n",
        "  * Price: info gain = 0.171  \n",
        "\n",
        "  Choose Body as the second attribute.  \n",
        "\n",
        "* Branch: Body = suv\n",
        "  * HP: info gain = 0.000\n",
        "  * Price: info gain = 1.000  \n",
        "\n",
        "  Choose Price as the third attribute.\n",
        "  \n",
        "![](https://drive.google.com/uc?export=view&id=1fLIy6xtBcdxi8Pkcq6R7gyoNfFFLPlR3) "
      ]
    },
    {
      "cell_type": "code",
      "metadata": {
        "id": "m0fsMX9M1rW-",
        "colab": {
          "base_uri": "https://localhost:8080/"
        },
        "outputId": "aa8b537c-33cd-4f65-e53a-fdd2dc937ced"
      },
      "source": [
        "# Problem 6, part (1) and (2) code \n",
        "\n",
        "# write your function calls here\n",
        "\n",
        "# (1)\n",
        "dic = {\"HP\": [[4,4], [[2,2],[2,2]]],\n",
        "       \"Drivetrain\": [[4,4], [[0,3],[4,1]]],\n",
        "       \"Body\": [[4,4], [[1,3],[3,1]]],\n",
        "       \"Price\": [[4,4], [[2,3],[2,1]]]}\n",
        "gain = 0\n",
        "attribute = None\n",
        "for atb in dic:\n",
        "  g = info_gain(dic[atb][0], dic[atb][1])\n",
        "  print(f\"{atb:10}: Info gain = {g:.3f}\")\n",
        "  if g > gain:\n",
        "    gain = g\n",
        "    attribute = atb\n",
        "print(f\"\\nChoose {attribute} as the first attribute.\")"
      ],
      "execution_count": 19,
      "outputs": [
        {
          "output_type": "stream",
          "name": "stdout",
          "text": [
            "HP        : Info gain = 0.000\n",
            "Drivetrain: Info gain = 0.549\n",
            "Body      : Info gain = 0.189\n",
            "Price     : Info gain = 0.049\n",
            "\n",
            "Choose Drivetrain as the first attribute.\n"
          ]
        }
      ]
    },
    {
      "cell_type": "code",
      "source": [
        "# (2)\n",
        "dic = {\"HP\": [[4,1], [[2,0],[2,1]]],\n",
        "       \"Body\": [[4,1], [[1,1],[3,0]]],\n",
        "       \"Price\": [[4,1], [[2,1],[2,0]]]}\n",
        "gain = 0\n",
        "attribute = None\n",
        "for atb in dic:\n",
        "  g = info_gain(dic[atb][0], dic[atb][1])\n",
        "  print(f\"{atb:5}: Info gain = {g:.3f}\")\n",
        "  if g > gain:\n",
        "    gain = g\n",
        "    attribute = atb\n",
        "print(f\"\\nChoose {attribute} as the second attribute.\")"
      ],
      "metadata": {
        "colab": {
          "base_uri": "https://localhost:8080/"
        },
        "id": "RxB_MbJTRLwi",
        "outputId": "a31aa971-2f31-4405-ebef-8d447a2dae87"
      },
      "execution_count": 20,
      "outputs": [
        {
          "output_type": "stream",
          "name": "stdout",
          "text": [
            "HP   : Info gain = 0.171\n",
            "Body : Info gain = 0.322\n",
            "Price: Info gain = 0.171\n",
            "\n",
            "Choose Body as the second attribute.\n"
          ]
        }
      ]
    },
    {
      "cell_type": "code",
      "source": [
        "dic = {\"HP\": [[1,1],[[0,0],[1,1]]],\n",
        "       \"Price\": [[1,1],[[0,1],[1,0]]]}\n",
        "gain = 0\n",
        "attribute = None\n",
        "for atb in dic:\n",
        "  g = info_gain(dic[atb][0], dic[atb][1])\n",
        "  print(f\"{atb:5}: Info gain = {g:.3f}\")\n",
        "  if g > gain:\n",
        "    gain = g\n",
        "    attribute = atb\n",
        "print(f\"\\nChoose {attribute} as the third attribute.\")"
      ],
      "metadata": {
        "colab": {
          "base_uri": "https://localhost:8080/"
        },
        "id": "SjlfaYqWRwYj",
        "outputId": "6c8f3855-2171-4430-d680-17f88b99ef1f"
      },
      "execution_count": 29,
      "outputs": [
        {
          "output_type": "stream",
          "name": "stdout",
          "text": [
            "HP   : Info gain = 0.000\n",
            "Price: Info gain = 1.000\n",
            "\n",
            "Choose Price as the third attribute.\n"
          ]
        }
      ]
    },
    {
      "cell_type": "markdown",
      "source": [
        "\n",
        "**Answer:**\n",
        "(3) Enter the data in the code cell below and run it to verify your results above.\n",
        "\n",
        "The Scikit-Learn decision tree algorithm produced the same results as mine.\n",
        "\n",
        "...\n",
        "...\n"
      ],
      "metadata": {
        "id": "tiglCtD9OYBC"
      }
    },
    {
      "cell_type": "code",
      "metadata": {
        "colab": {
          "base_uri": "https://localhost:8080/",
          "height": 370
        },
        "id": "2t9hopk739FN",
        "outputId": "fdb7ca79-2902-46c4-d44b-23ec88b1d88c"
      },
      "source": [
        "# Problem 6, part (3) code\n",
        "#\n",
        "# Testing scikit-learn's decision tree implementation. \n",
        "#\n",
        "#  - scikit-learn's decision tree only allows binary target values.\n",
        "\n",
        "from sklearn import tree\n",
        "import numpy as np \n",
        "\n",
        "clf = tree.DecisionTreeClassifier(criterion=\"entropy\")\n",
        "\n",
        "# Enter your data here. Each row is an instance. Each column is the attribute.\n",
        "# Set the first attribute value that appears in the table to be 0, and the next one as 1.\n",
        "# - for example, for the Outlook attribute, Sunny = 0, and Overcast = 1.\n",
        "#\n",
        "# X = [[0,0,0,0],\n",
        "#      [0,0,0,1],\n",
        "#      ... .... ... ]\n",
        "#\n",
        "\n",
        "# mock data, with only 4 instances\n",
        "# - MODIFY this \n",
        "#\n",
        "# Column order: HP, Drivetrain, Body, Price\n",
        "# Values:\n",
        "#    HP:          low=0, high=1\n",
        "#    Drivetrain:  rwd=0, fwd=1\n",
        "#    Body:        suv=0, hatchback=1\n",
        "#    Price:       low=0, high=1 \n",
        "# Target:         N=0, Y=1\n",
        "X = [[0,0,0,1], \n",
        "     [1,1,0,1],\n",
        "     [0,0,1,0], \n",
        "     [1,1,1,0], \n",
        "     [1,0,0,0], \n",
        "     [1,1,0,0],\n",
        "     [0,1,1,1], \n",
        "     [0,1,1,0]]\n",
        "\n",
        "# Enter the target data (PlayTennis) here. 1 = Yes. 0 = No.\n",
        "# y = [1, 1, .... ]\n",
        "# - MODIFY this \n",
        "\n",
        "y = [0, \n",
        "     1, \n",
        "     0, \n",
        "     1,\n",
        "     0, \n",
        "     0, \n",
        "     1, \n",
        "     1]\n",
        "clf = clf.fit(X, y)\n",
        "\n",
        "# Note: value=[a,b] means \"a\" negative samples, and \"b\" positive samples [# neg = a, # pos = b]. \n",
        "#       *Note that this order is reversed, compared to the lecture slides, where we had [# pos, #neg].  \n",
        "# Note: left branch is attribute value 0, right branch = attribute value 1.\n",
        "# Note: X[n] means the attribute for the n-th column (n=0 is the first column in)\n",
        "tree.plot_tree(clf)\n"
      ],
      "execution_count": 22,
      "outputs": [
        {
          "output_type": "execute_result",
          "data": {
            "text/plain": [
              "[Text(0.4, 0.875, 'X[1] <= 0.5\\nentropy = 1.0\\nsamples = 8\\nvalue = [4, 4]'),\n",
              " Text(0.2, 0.625, 'entropy = 0.0\\nsamples = 3\\nvalue = [3, 0]'),\n",
              " Text(0.6, 0.625, 'X[2] <= 0.5\\nentropy = 0.722\\nsamples = 5\\nvalue = [1, 4]'),\n",
              " Text(0.4, 0.375, 'X[3] <= 0.5\\nentropy = 1.0\\nsamples = 2\\nvalue = [1, 1]'),\n",
              " Text(0.2, 0.125, 'entropy = 0.0\\nsamples = 1\\nvalue = [1, 0]'),\n",
              " Text(0.6, 0.125, 'entropy = 0.0\\nsamples = 1\\nvalue = [0, 1]'),\n",
              " Text(0.8, 0.375, 'entropy = 0.0\\nsamples = 3\\nvalue = [0, 3]')]"
            ]
          },
          "metadata": {},
          "execution_count": 22
        },
        {
          "output_type": "display_data",
          "data": {
            "text/plain": [
              "<Figure size 432x288 with 1 Axes>"
            ],
            "image/png": "[encoded data removed]"
          },
          "metadata": {
            "needs_background": "light"
          }
        }
      ]
    },
    {
      "cell_type": "markdown",
      "source": [
        "# [Extra Code] Full Decision Tree (Exercise Only, No credit) \n",
        "\n",
        "In this section, you will write a complete decision tree learning algorithm, and display the results as a tree. Again, this is not required, so no need to submit anything for this part. "
      ],
      "metadata": {
        "id": "n2BVfCcUMvTI"
      }
    },
    {
      "cell_type": "markdown",
      "source": [
        "**This code is provided only as an exercise: No credit/points**\n",
        "\n",
        "Implement a full Decision Tree algorithm, and test it on the Section II data set. Use the starter code below. It provides the data structure and plotting function.\n",
        "\n",
        "* **Input**: Data Set\n",
        "* **Output**: Decision tree plot\n"
      ],
      "metadata": {
        "id": "1w28h1Yb0vqE"
      }
    },
    {
      "cell_type": "code",
      "source": [
        "'''\n",
        "\n",
        "  Decision tree: starter code \n",
        "\n",
        "'''\n",
        "\n",
        "import numpy as np\n",
        "import types\n",
        "import matplotlib.pyplot as plt\n",
        "import graphviz\n",
        "import uuid\n",
        "\n",
        "#------------------------------------------------------------------\n",
        "#\n",
        "# DT: Decision tree class \n",
        "# \n",
        "# - you can mostly leave this alone\n",
        "# - edit the DT_learn class below. \n",
        "# - this may only be useful for displaying\n",
        "#\n",
        "#------------------------------------------------------------------\n",
        "class DT:\n",
        "  '''\n",
        "  DT class \n",
        "\n",
        "  - it can be a leaf (Yes/No) or a subtree\n",
        "\n",
        "  '''\n",
        "\n",
        "  #-------------------\n",
        "  # __init__ function\n",
        "  #-------------------\n",
        "  def __init__(self, decision=None, attr=None, values=None, children=None):\n",
        "    '''\n",
        "    decision: if this alone is given, a leaf node will be created.\n",
        "        - example: dt = DT(decision=False)\n",
        "\n",
        "    attr, values, children : if these are given together, a subtree will be created.\n",
        "        - example: dt = DT(attr=\"Patron\", values=[\"Full\", \"Some\", \"None\"], children=[None, None, None])\n",
        "    '''\n",
        "\n",
        "    # 1. Leaf\n",
        "    if decision != None:\n",
        "\n",
        "      self.decision = decision\n",
        "      self.is_leaf = True\n",
        "\n",
        "    # 2. tree\n",
        "    else:\n",
        "\n",
        "      self.attr     = attr\n",
        "      self.values   = values\n",
        "      self.children = children\n",
        "      self.is_leaf  = False\n",
        "\n",
        "  #-------------------\n",
        "  # print function\n",
        "  #------------------\n",
        "  def print(self,indent=\"\"):\n",
        "    '''\n",
        "    print : print the node content\n",
        "      indent: to plot child tree with indentation, e.g., \"     \"\n",
        "    '''\n",
        "\n",
        "    # 1. Leaf\n",
        "    if (self.is_leaf):\n",
        "      print(indent+\"Leaf = \",end=\"\")\n",
        "      print(self.decision)\n",
        "\n",
        "    # 2. tree \n",
        "    else:\n",
        "\n",
        "      print(indent+\"Attr = [__{}__]\".format(self.attr), end=\", \")\n",
        "      print(indent+\"Values:\",end=\" \")\n",
        "      print(self.values)\n",
        "\n",
        "      # recurse into children\n",
        "      n = 0\n",
        "      for child in self.children:\n",
        "        print(indent+\"Child \"+str(n)+\":\",end=\"\")\n",
        "        # indent subtree more than current indentation for easier inspection\n",
        "        child.print(indent+\"    \") \n",
        "        n += 1\n",
        "\n",
        "  #-------------------\n",
        "  # uid function\n",
        "  #------------------\n",
        "  def uid(self):\n",
        "    '''\n",
        "    uid : generates a unique identifier for graph plotting\n",
        "    '''\n",
        "\n",
        "    UID = str(uuid.uuid4())\n",
        "    UID = UID.replace(\"-\",\"\")\n",
        "    UID = \"id_\"+UID\n",
        "\n",
        "    return UID\n",
        "\n",
        "  #-------------------\n",
        "  # plot_tree function :  \n",
        "  #------------------\n",
        "  def plot_tree(self, dot_handle=None):\n",
        "    '''\n",
        "    plot_tree : visualize the tree using graphviz\n",
        "\n",
        "      - dot_handle: graphviz dot handle to keep adding to the\n",
        "          same graph instance through recursive calls.\n",
        "          Do not specify it when calling this at the top level.\n",
        "\n",
        "    '''\n",
        "    # generated unique ID for this node\n",
        "    UID = self.uid()\n",
        "\n",
        "    # 1. new tree generation, if called without dot_handle \n",
        "\n",
        "    if (dot_handle == None): \n",
        "      dot = graphviz.Digraph(comment='Decision Tree')\n",
        "    else:\n",
        "      dot = dot_handle\n",
        "\n",
        "    # 2. Leaf \n",
        "    if (self.is_leaf):\n",
        "\n",
        "      dot.node(UID, label=str(self.decision), shape=\"plaintext\")\n",
        "      return UID, dot\n",
        "\n",
        "    # 3. Subtree\n",
        "    else:\n",
        "\n",
        "      dot.node(UID, label=self.attr, shape=\"box\")\n",
        "\n",
        "      # recurse into children\n",
        "      n = 0\n",
        "      for child in self.children:\n",
        "\n",
        "        # get child's subtree\n",
        "        child_UID, dot = child.plot_tree(dot_handle=dot)\n",
        "\n",
        "        # connect to the subtree\n",
        "        dot.edge(UID, child_UID, label=self.values[n])\n",
        "        n += 1\n",
        "\n",
        "    # return graph : you must plot this from the calling routine\n",
        "    return UID, dot \n",
        "\n",
        "\n",
        "#------------------------------------------------------------------\n",
        "#\n",
        "# DT_learn: Decision tree learning class : IMPLEMENT THIS\n",
        "#\n",
        "#------------------------------------------------------------------\n",
        "class DT_learn:   \n",
        "  '''\n",
        "\n",
        "  DT_learn class\n",
        "\n",
        "  '''\n",
        "  #-------------------\n",
        "  # init\n",
        "  #------------------\n",
        "  def __init__(self,input_data=None, target_data=None, attr_list=None):\n",
        "    '''\n",
        "    init:\n",
        "      input_data : n x m array containing input vectors.\n",
        "      target_data : n x 1 array containing target values.\n",
        "      attr_list : 1 x m array containing attribute names.\n",
        "\n",
        "    example:\n",
        "\n",
        "      dt_learn = DT_learn(\n",
        "          input_data=[[0,0], [0,1], [1,0], [1,1]], \n",
        "          target_data=[0, 1, 1, 0], \n",
        "          attr_list=['x1', 'x2'])\n",
        "\n",
        "    '''\n",
        "\n",
        "    self.input_data  = input_data\n",
        "    self.target_data = target_data\n",
        "    self.attr_list   = attr_list\n",
        "\n",
        "    # for use throughout : leaf nodes\n",
        "    self.leaf_f = DT(decision = False)\n",
        "    self.leaf_t = DT(decision = True)\n",
        "\n",
        "  #-------------------\n",
        "  # learn : IMPLEMENT THIS\n",
        "  #------------------\n",
        "  def learn(self, check_attr=None, input_data=None, target_data=None, remaining_attr_list=None, default_value=None):\n",
        "    '''\n",
        "    - Initial call can be without any arguments.\n",
        "    - Recursive calls will require the subsets, which attribute to check, and the remaining attributes\n",
        "      - This is a rough guess btw. You may have to adjust it as needed.  \n",
        "    '''\n",
        "\n",
        "    # Construct your tree based on the given data : replace the mock code below\n",
        "    root = DT(attr=\"Root\", values=[\"v1\", \"v2\"], children=[self.leaf_f, self.leaf_t])\n",
        "\n",
        "    # you may have to call learn() recursively.\n",
        "    \n",
        "    # return final tree\n",
        "    return root\n",
        "\n",
        "\n",
        "#---------------------------\n",
        "# Test DT class\n",
        "#---------------------------\n",
        "\n",
        "# create leaf nodes : this will be reused for all leaves.\n",
        "leaf_f = DT(decision = False)\n",
        "leaf_t = DT(decision = True)\n",
        "\n",
        "# Simple tree with all leaf node children: This will be used as a subtree below\n",
        "\n",
        "dt1 = DT(attr = \"Price\", values = [\"$\", \"$$\", \"$$$\"], children = [leaf_f, leaf_t, leaf_t])\n",
        "\n",
        "\n",
        "# Another tree to be used as a subtree below.\n",
        "# A bit more complex tree with 1 subtree as a child.\n",
        "# - You can simply put a subtree in the children list, as shown below.\n",
        "\n",
        "dt2 = DT(attr = \"Patron\", values = [\"none\", \"some\", \"full\"], children = [leaf_f, dt1, leaf_t])\n",
        "\n",
        "# The final tree \n",
        "# - Note: dt2 has dt1 has sub tree, so, in this plot, \"Price\" attribute will appear twice\n",
        "\n",
        "dt3 = DT(attr = \"Waiting Staff\", values = [\"part-time\", \"full-time\", \"owner\", \"family\"], children = [leaf_f, dt1, dt2, leaf_t])\n",
        "print(\"\\n\\n\\n Decision Tree dump: This is a mock example just to test the plotting function.\\n\\n\")\n",
        "dt3.print()\n",
        "\n",
        "# create plot from the final tree\n",
        "\n",
        "UID, dot = dt3.plot_tree()  \n",
        "print(\"\\n\\n\\n Decision Tree plot: This is a mock example just to test the plotting function.\\n\\n\")\n",
        "dot \n",
        "\n",
        "# See below for test code for DT_learn class "
      ],
      "metadata": {
        "id": "6tv0kRIC0UnY",
        "colab": {
          "base_uri": "https://localhost:8080/",
          "height": 879
        },
        "outputId": "7db2ced8-b6dc-4e81-9296-509e73521b66"
      },
      "execution_count": 23,
      "outputs": [
        {
          "output_type": "stream",
          "name": "stdout",
          "text": [
            "\n",
            "\n",
            "\n",
            " Decision Tree dump: This is a mock example just to test the plotting function.\n",
            "\n",
            "\n",
            "Attr = [__Waiting Staff__], Values: ['part-time', 'full-time', 'owner', 'family']\n",
            "Child 0:    Leaf = False\n",
            "Child 1:    Attr = [__Price__],     Values: ['$', '$$', '$$$']\n",
            "    Child 0:        Leaf = False\n",
            "    Child 1:        Leaf = True\n",
            "    Child 2:        Leaf = True\n",
            "Child 2:    Attr = [__Patron__],     Values: ['none', 'some', 'full']\n",
            "    Child 0:        Leaf = False\n",
            "    Child 1:        Attr = [__Price__],         Values: ['$', '$$', '$$$']\n",
            "        Child 0:            Leaf = False\n",
            "        Child 1:            Leaf = True\n",
            "        Child 2:            Leaf = True\n",
            "    Child 2:        Leaf = True\n",
            "Child 3:    Leaf = True\n",
            "\n",
            "\n",
            "\n",
            " Decision Tree plot: This is a mock example just to test the plotting function.\n",
            "\n",
            "\n"
          ]
        },
        {
          "output_type": "execute_result",
          "data": {
            "text/plain": [
              "<graphviz.dot.Digraph at 0x7f6f80f84c90>"
            ],
            "image/svg+xml": "<?xml version=\"1.0\" encoding=\"UTF-8\" standalone=\"no\"?>\n<!DOCTYPE svg PUBLIC \"-//W3C//DTD SVG 1.1//EN\"\n \"http://www.w3.org/Graphics/SVG/1.1/DTD/svg11.dtd\">\n<!-- Generated by graphviz version 2.40.1 (20161225.0304)\n -->\n<!-- Title: %3 Pages: 1 -->\n<svg width=\"422pt\" height=\"305pt\"\n viewBox=\"0.00 0.00 422.00 305.00\" xmlns=\"http://www.w3.org/2000/svg\" xmlns:xlink=\"http://www.w3.org/1999/xlink\">\n<g id=\"graph0\" class=\"graph\" transform=\"scale(1 1) rotate(0) translate(4 301)\">\n<title>%3</title>\n<polygon fill=\"#ffffff\" stroke=\"transparent\" points=\"-4,4 -4,-301 418,-301 418,4 -4,4\"/>\n<!-- id_4c38574af54e4757b38859b387a4d5a1 -->\n<g id=\"node1\" class=\"node\">\n<title>id_4c38574af54e4757b38859b387a4d5a1</title>\n<polygon fill=\"none\" stroke=\"#000000\" points=\"254,-297 162,-297 162,-261 254,-261 254,-297\"/>\n<text text-anchor=\"middle\" x=\"208\" y=\"-275.3\" font-family=\"Times,serif\" font-size=\"14.00\" fill=\"#000000\">Waiting Staff</text>\n</g>\n<!-- id_152b1c6f88b24b42b99b799e5da220a9 -->\n<g id=\"node2\" class=\"node\">\n<title>id_152b1c6f88b24b42b99b799e5da220a9</title>\n<text text-anchor=\"middle\" x=\"97\" y=\"-188.3\" font-family=\"Times,serif\" font-size=\"14.00\" fill=\"#000000\">False</text>\n</g>\n<!-- id_4c38574af54e4757b38859b387a4d5a1&#45;&gt;id_152b1c6f88b24b42b99b799e5da220a9 -->\n<g id=\"edge1\" class=\"edge\">\n<title>id_4c38574af54e4757b38859b387a4d5a1&#45;&gt;id_152b1c6f88b24b42b99b799e5da220a9</title>\n<path fill=\"none\" stroke=\"#000000\" d=\"M161.7665,-271.6713C143.3303,-266.53 123.3579,-257.8018 110,-243 104.3183,-236.7041 101.0476,-228.2699 99.1866,-220.0753\"/>\n<polygon fill=\"#000000\" stroke=\"#000000\" points=\"102.6043,-219.2912 97.5078,-210.0027 95.6995,-220.442 102.6043,-219.2912\"/>\n<text text-anchor=\"middle\" x=\"136\" y=\"-231.8\" font-family=\"Times,serif\" font-size=\"14.00\" fill=\"#000000\">part&#45;time</text>\n</g>\n<!-- id_564661fd82bd451683db0cb48ece8a86 -->\n<g id=\"node3\" class=\"node\">\n<title>id_564661fd82bd451683db0cb48ece8a86</title>\n<polygon fill=\"none\" stroke=\"#000000\" points=\"198,-210 144,-210 144,-174 198,-174 198,-210\"/>\n<text text-anchor=\"middle\" x=\"171\" y=\"-188.3\" font-family=\"Times,serif\" font-size=\"14.00\" fill=\"#000000\">Price</text>\n</g>\n<!-- id_4c38574af54e4757b38859b387a4d5a1&#45;&gt;id_564661fd82bd451683db0cb48ece8a86 -->\n<g id=\"edge5\" class=\"edge\">\n<title>id_4c38574af54e4757b38859b387a4d5a1&#45;&gt;id_564661fd82bd451683db0cb48ece8a86</title>\n<path fill=\"none\" stroke=\"#000000\" d=\"M182.8868,-260.8196C177.6608,-255.6986 172.8727,-249.6785 170,-243 166.9688,-235.9529 166.1035,-227.8354 166.2854,-220.1789\"/>\n<polygon fill=\"#000000\" stroke=\"#000000\" points=\"169.7777,-220.4126 167.0774,-210.1677 162.7995,-219.8605 169.7777,-220.4126\"/>\n<text text-anchor=\"middle\" x=\"194.5\" y=\"-231.8\" font-family=\"Times,serif\" font-size=\"14.00\" fill=\"#000000\">full&#45;time</text>\n</g>\n<!-- id_1b4ea9d804904c798738303a5ed41760 -->\n<g id=\"node7\" class=\"node\">\n<title>id_1b4ea9d804904c798738303a5ed41760</title>\n<polygon fill=\"none\" stroke=\"#000000\" points=\"271,-210 217,-210 217,-174 271,-174 271,-210\"/>\n<text text-anchor=\"middle\" x=\"244\" y=\"-188.3\" font-family=\"Times,serif\" font-size=\"14.00\" fill=\"#000000\">Patron</text>\n</g>\n<!-- id_4c38574af54e4757b38859b387a4d5a1&#45;&gt;id_1b4ea9d804904c798738303a5ed41760 -->\n<g id=\"edge12\" class=\"edge\">\n<title>id_4c38574af54e4757b38859b387a4d5a1&#45;&gt;id_1b4ea9d804904c798738303a5ed41760</title>\n<path fill=\"none\" stroke=\"#000000\" d=\"M215.4592,-260.9735C220.431,-248.9585 227.0593,-232.9401 232.6767,-219.3646\"/>\n<polygon fill=\"#000000\" stroke=\"#000000\" points=\"235.9608,-220.5818 236.5503,-210.0034 229.4927,-217.9053 235.9608,-220.5818\"/>\n<text text-anchor=\"middle\" x=\"246.5\" y=\"-231.8\" font-family=\"Times,serif\" font-size=\"14.00\" fill=\"#000000\">owner</text>\n</g>\n<!-- id_43d5c8ff3ac64be9a98211fbd3403b33 -->\n<g id=\"node14\" class=\"node\">\n<title>id_43d5c8ff3ac64be9a98211fbd3403b33</title>\n<text text-anchor=\"middle\" x=\"316\" y=\"-188.3\" font-family=\"Times,serif\" font-size=\"14.00\" fill=\"#000000\">True</text>\n</g>\n<!-- id_4c38574af54e4757b38859b387a4d5a1&#45;&gt;id_43d5c8ff3ac64be9a98211fbd3403b33 -->\n<g id=\"edge13\" class=\"edge\">\n<title>id_4c38574af54e4757b38859b387a4d5a1&#45;&gt;id_43d5c8ff3ac64be9a98211fbd3403b33</title>\n<path fill=\"none\" stroke=\"#000000\" d=\"M242.727,-260.8768C251.6366,-255.6003 260.966,-249.4925 269,-243 278.1777,-235.5833 287.2163,-226.3712 294.8774,-217.8252\"/>\n<polygon fill=\"#000000\" stroke=\"#000000\" points=\"297.5605,-220.0737 301.4904,-210.2347 292.2825,-215.4755 297.5605,-220.0737\"/>\n<text text-anchor=\"middle\" x=\"302.5\" y=\"-231.8\" font-family=\"Times,serif\" font-size=\"14.00\" fill=\"#000000\">family</text>\n</g>\n<!-- id_d8fbc4a92702439a80707a1a8a7845d0 -->\n<g id=\"node4\" class=\"node\">\n<title>id_d8fbc4a92702439a80707a1a8a7845d0</title>\n<text text-anchor=\"middle\" x=\"27\" y=\"-101.3\" font-family=\"Times,serif\" font-size=\"14.00\" fill=\"#000000\">False</text>\n</g>\n<!-- id_564661fd82bd451683db0cb48ece8a86&#45;&gt;id_d8fbc4a92702439a80707a1a8a7845d0 -->\n<g id=\"edge2\" class=\"edge\">\n<title>id_564661fd82bd451683db0cb48ece8a86&#45;&gt;id_d8fbc4a92702439a80707a1a8a7845d0</title>\n<path fill=\"none\" stroke=\"#000000\" d=\"M143.9147,-175.636C121.1308,-161.8707 88.356,-142.0693 63.3018,-126.9323\"/>\n<polygon fill=\"#000000\" stroke=\"#000000\" points=\"64.8225,-123.7619 54.4534,-121.5865 61.2027,-129.7534 64.8225,-123.7619\"/>\n<text text-anchor=\"middle\" x=\"112\" y=\"-144.8\" font-family=\"Times,serif\" font-size=\"14.00\" fill=\"#000000\">$</text>\n</g>\n<!-- id_391f9f3ca5254b398dfde41f769d6842 -->\n<g id=\"node5\" class=\"node\">\n<title>id_391f9f3ca5254b398dfde41f769d6842</title>\n<text text-anchor=\"middle\" x=\"99\" y=\"-101.3\" font-family=\"Times,serif\" font-size=\"14.00\" fill=\"#000000\">True</text>\n</g>\n<!-- id_564661fd82bd451683db0cb48ece8a86&#45;&gt;id_391f9f3ca5254b398dfde41f769d6842 -->\n<g id=\"edge3\" class=\"edge\">\n<title>id_564661fd82bd451683db0cb48ece8a86&#45;&gt;id_391f9f3ca5254b398dfde41f769d6842</title>\n<path fill=\"none\" stroke=\"#000000\" d=\"M156.0816,-173.9735C145.7519,-161.4919 131.8468,-144.6899 120.3471,-130.7944\"/>\n<polygon fill=\"#000000\" stroke=\"#000000\" points=\"122.9714,-128.4758 113.8993,-123.0034 117.5787,-132.9388 122.9714,-128.4758\"/>\n<text text-anchor=\"middle\" x=\"147\" y=\"-144.8\" font-family=\"Times,serif\" font-size=\"14.00\" fill=\"#000000\">$$</text>\n</g>\n<!-- id_38d67330a85e4c33b2caf6de0d456309 -->\n<g id=\"node6\" class=\"node\">\n<title>id_38d67330a85e4c33b2caf6de0d456309</title>\n<text text-anchor=\"middle\" x=\"171\" y=\"-101.3\" font-family=\"Times,serif\" font-size=\"14.00\" fill=\"#000000\">True</text>\n</g>\n<!-- id_564661fd82bd451683db0cb48ece8a86&#45;&gt;id_38d67330a85e4c33b2caf6de0d456309 -->\n<g id=\"edge4\" class=\"edge\">\n<title>id_564661fd82bd451683db0cb48ece8a86&#45;&gt;id_38d67330a85e4c33b2caf6de0d456309</title>\n<path fill=\"none\" stroke=\"#000000\" d=\"M171,-173.9735C171,-162.1918 171,-146.5607 171,-133.1581\"/>\n<polygon fill=\"#000000\" stroke=\"#000000\" points=\"174.5001,-133.0033 171,-123.0034 167.5001,-133.0034 174.5001,-133.0033\"/>\n<text text-anchor=\"middle\" x=\"182.5\" y=\"-144.8\" font-family=\"Times,serif\" font-size=\"14.00\" fill=\"#000000\">$$$</text>\n</g>\n<!-- id_b168c5b5754c4307b6d3101336745dc6 -->\n<g id=\"node8\" class=\"node\">\n<title>id_b168c5b5754c4307b6d3101336745dc6</title>\n<text text-anchor=\"middle\" x=\"243\" y=\"-101.3\" font-family=\"Times,serif\" font-size=\"14.00\" fill=\"#000000\">False</text>\n</g>\n<!-- id_1b4ea9d804904c798738303a5ed41760&#45;&gt;id_b168c5b5754c4307b6d3101336745dc6 -->\n<g id=\"edge6\" class=\"edge\">\n<title>id_1b4ea9d804904c798738303a5ed41760&#45;&gt;id_b168c5b5754c4307b6d3101336745dc6</title>\n<path fill=\"none\" stroke=\"#000000\" d=\"M243.7928,-173.9735C243.6574,-162.1918 243.4777,-146.5607 243.3237,-133.1581\"/>\n<polygon fill=\"#000000\" stroke=\"#000000\" points=\"246.8217,-132.9624 243.2069,-123.0034 239.8222,-133.043 246.8217,-132.9624\"/>\n<text text-anchor=\"middle\" x=\"257.5\" y=\"-144.8\" font-family=\"Times,serif\" font-size=\"14.00\" fill=\"#000000\">none</text>\n</g>\n<!-- id_f9a9c5c1571d41f7a064f88893f76283 -->\n<g id=\"node9\" class=\"node\">\n<title>id_f9a9c5c1571d41f7a064f88893f76283</title>\n<polygon fill=\"none\" stroke=\"#000000\" points=\"342,-123 288,-123 288,-87 342,-87 342,-123\"/>\n<text text-anchor=\"middle\" x=\"315\" y=\"-101.3\" font-family=\"Times,serif\" font-size=\"14.00\" fill=\"#000000\">Price</text>\n</g>\n<!-- id_1b4ea9d804904c798738303a5ed41760&#45;&gt;id_f9a9c5c1571d41f7a064f88893f76283 -->\n<g id=\"edge10\" class=\"edge\">\n<title>id_1b4ea9d804904c798738303a5ed41760&#45;&gt;id_f9a9c5c1571d41f7a064f88893f76283</title>\n<path fill=\"none\" stroke=\"#000000\" d=\"M260.5447,-173.9132C265.5948,-168.2532 271.1045,-161.9346 276,-156 282.5276,-148.0868 289.4022,-139.272 295.5307,-131.2265\"/>\n<polygon fill=\"#000000\" stroke=\"#000000\" points=\"298.3661,-133.2797 301.6013,-123.1909 292.7808,-129.0602 298.3661,-133.2797\"/>\n<text text-anchor=\"middle\" x=\"302.5\" y=\"-144.8\" font-family=\"Times,serif\" font-size=\"14.00\" fill=\"#000000\">some</text>\n</g>\n<!-- id_bd14644659794cef89250364e3459839 -->\n<g id=\"node13\" class=\"node\">\n<title>id_bd14644659794cef89250364e3459839</title>\n<text text-anchor=\"middle\" x=\"387\" y=\"-101.3\" font-family=\"Times,serif\" font-size=\"14.00\" fill=\"#000000\">True</text>\n</g>\n<!-- id_1b4ea9d804904c798738303a5ed41760&#45;&gt;id_bd14644659794cef89250364e3459839 -->\n<g id=\"edge11\" class=\"edge\">\n<title>id_1b4ea9d804904c798738303a5ed41760&#45;&gt;id_bd14644659794cef89250364e3459839</title>\n<path fill=\"none\" stroke=\"#000000\" d=\"M271.0441,-178.2649C274.0536,-176.8 277.084,-175.3524 280,-174 298.4236,-165.4551 304.53,-166.3558 322,-156 334.6839,-148.4813 347.6621,-138.7775 358.6531,-129.8558\"/>\n<polygon fill=\"#000000\" stroke=\"#000000\" points=\"361.1718,-132.3139 366.6328,-123.2349 356.702,-126.9268 361.1718,-132.3139\"/>\n<text text-anchor=\"middle\" x=\"352\" y=\"-144.8\" font-family=\"Times,serif\" font-size=\"14.00\" fill=\"#000000\">full</text>\n</g>\n<!-- id_8410dd04062f4c008663e83d2150082c -->\n<g id=\"node10\" class=\"node\">\n<title>id_8410dd04062f4c008663e83d2150082c</title>\n<text text-anchor=\"middle\" x=\"243\" y=\"-14.3\" font-family=\"Times,serif\" font-size=\"14.00\" fill=\"#000000\">False</text>\n</g>\n<!-- id_f9a9c5c1571d41f7a064f88893f76283&#45;&gt;id_8410dd04062f4c008663e83d2150082c -->\n<g id=\"edge7\" class=\"edge\">\n<title>id_f9a9c5c1571d41f7a064f88893f76283&#45;&gt;id_8410dd04062f4c008663e83d2150082c</title>\n<path fill=\"none\" stroke=\"#000000\" d=\"M300.0816,-86.9735C289.7519,-74.4919 275.8468,-57.6899 264.3471,-43.7944\"/>\n<polygon fill=\"#000000\" stroke=\"#000000\" points=\"266.9714,-41.4758 257.8993,-36.0034 261.5787,-45.9388 266.9714,-41.4758\"/>\n<text text-anchor=\"middle\" x=\"287\" y=\"-57.8\" font-family=\"Times,serif\" font-size=\"14.00\" fill=\"#000000\">$</text>\n</g>\n<!-- id_301bb2136ea34851bbf1cbdbfa236d28 -->\n<g id=\"node11\" class=\"node\">\n<title>id_301bb2136ea34851bbf1cbdbfa236d28</title>\n<text text-anchor=\"middle\" x=\"315\" y=\"-14.3\" font-family=\"Times,serif\" font-size=\"14.00\" fill=\"#000000\">True</text>\n</g>\n<!-- id_f9a9c5c1571d41f7a064f88893f76283&#45;&gt;id_301bb2136ea34851bbf1cbdbfa236d28 -->\n<g id=\"edge8\" class=\"edge\">\n<title>id_f9a9c5c1571d41f7a064f88893f76283&#45;&gt;id_301bb2136ea34851bbf1cbdbfa236d28</title>\n<path fill=\"none\" stroke=\"#000000\" d=\"M315,-86.9735C315,-75.1918 315,-59.5607 315,-46.1581\"/>\n<polygon fill=\"#000000\" stroke=\"#000000\" points=\"318.5001,-46.0033 315,-36.0034 311.5001,-46.0034 318.5001,-46.0033\"/>\n<text text-anchor=\"middle\" x=\"323\" y=\"-57.8\" font-family=\"Times,serif\" font-size=\"14.00\" fill=\"#000000\">$$</text>\n</g>\n<!-- id_63cf2ccfe70b475cb6abe21f0c5c7723 -->\n<g id=\"node12\" class=\"node\">\n<title>id_63cf2ccfe70b475cb6abe21f0c5c7723</title>\n<text text-anchor=\"middle\" x=\"387\" y=\"-14.3\" font-family=\"Times,serif\" font-size=\"14.00\" fill=\"#000000\">True</text>\n</g>\n<!-- id_f9a9c5c1571d41f7a064f88893f76283&#45;&gt;id_63cf2ccfe70b475cb6abe21f0c5c7723 -->\n<g id=\"edge9\" class=\"edge\">\n<title>id_f9a9c5c1571d41f7a064f88893f76283&#45;&gt;id_63cf2ccfe70b475cb6abe21f0c5c7723</title>\n<path fill=\"none\" stroke=\"#000000\" d=\"M329.9184,-86.9735C340.2481,-74.4919 354.1532,-57.6899 365.6529,-43.7944\"/>\n<polygon fill=\"#000000\" stroke=\"#000000\" points=\"368.4213,-45.9388 372.1007,-36.0034 363.0286,-41.4758 368.4213,-45.9388\"/>\n<text text-anchor=\"middle\" x=\"366.5\" y=\"-57.8\" font-family=\"Times,serif\" font-size=\"14.00\" fill=\"#000000\">$$$</text>\n</g>\n</g>\n</svg>\n"
          },
          "metadata": {},
          "execution_count": 23
        }
      ]
    },
    {
      "cell_type": "code",
      "source": [
        "#----------------------------\n",
        "# Test DT_learn class\n",
        "#----------------------------\n",
        "\n",
        "# 1. create instance\n",
        "# - the example below shows the XOR problem, with the input attributes 'x1' and 'x2'. \n",
        "# - just use plain old Python lists for the data. \n",
        "\n",
        "dt_learn = DT_learn(input_data=[[0,0], [0,1], [1,0], [1,1]], target_data=[0, 1, 1, 0], attr_list=['x1', 'x2'])\n",
        "\n",
        "# 2. train\n",
        "\n",
        "dt = dt_learn.learn()\n",
        "\n",
        "# 3. plot outcome\n",
        "\n",
        "dt.print()\n",
        "UID, dot = dt.plot_tree()\n",
        "dot"
      ],
      "metadata": {
        "colab": {
          "base_uri": "https://localhost:8080/",
          "height": 248
        },
        "id": "eqbeNZzWf1ck",
        "outputId": "650ba595-db44-4646-d25a-fd1c0b00b4f7"
      },
      "execution_count": 24,
      "outputs": [
        {
          "output_type": "stream",
          "name": "stdout",
          "text": [
            "Attr = [__Root__], Values: ['v1', 'v2']\n",
            "Child 0:    Leaf = False\n",
            "Child 1:    Leaf = True\n"
          ]
        },
        {
          "output_type": "execute_result",
          "data": {
            "text/plain": [
              "<graphviz.dot.Digraph at 0x7f6f80c9d110>"
            ],
            "image/svg+xml": "<?xml version=\"1.0\" encoding=\"UTF-8\" standalone=\"no\"?>\n<!DOCTYPE svg PUBLIC \"-//W3C//DTD SVG 1.1//EN\"\n \"http://www.w3.org/Graphics/SVG/1.1/DTD/svg11.dtd\">\n<!-- Generated by graphviz version 2.40.1 (20161225.0304)\n -->\n<!-- Title: %3 Pages: 1 -->\n<svg width=\"134pt\" height=\"131pt\"\n viewBox=\"0.00 0.00 134.00 131.00\" xmlns=\"http://www.w3.org/2000/svg\" xmlns:xlink=\"http://www.w3.org/1999/xlink\">\n<g id=\"graph0\" class=\"graph\" transform=\"scale(1 1) rotate(0) translate(4 127)\">\n<title>%3</title>\n<polygon fill=\"#ffffff\" stroke=\"transparent\" points=\"-4,4 -4,-127 130,-127 130,4 -4,4\"/>\n<!-- id_6313ef5bfaff4c68a29957fde666ebb2 -->\n<g id=\"node1\" class=\"node\">\n<title>id_6313ef5bfaff4c68a29957fde666ebb2</title>\n<polygon fill=\"none\" stroke=\"#000000\" points=\"90,-123 36,-123 36,-87 90,-87 90,-123\"/>\n<text text-anchor=\"middle\" x=\"63\" y=\"-101.3\" font-family=\"Times,serif\" font-size=\"14.00\" fill=\"#000000\">Root</text>\n</g>\n<!-- id_652df591b2934cc383f0dde6c57acd1a -->\n<g id=\"node2\" class=\"node\">\n<title>id_652df591b2934cc383f0dde6c57acd1a</title>\n<text text-anchor=\"middle\" x=\"27\" y=\"-14.3\" font-family=\"Times,serif\" font-size=\"14.00\" fill=\"#000000\">False</text>\n</g>\n<!-- id_6313ef5bfaff4c68a29957fde666ebb2&#45;&gt;id_652df591b2934cc383f0dde6c57acd1a -->\n<g id=\"edge1\" class=\"edge\">\n<title>id_6313ef5bfaff4c68a29957fde666ebb2&#45;&gt;id_652df591b2934cc383f0dde6c57acd1a</title>\n<path fill=\"none\" stroke=\"#000000\" d=\"M55.5408,-86.9735C50.569,-74.9585 43.9407,-58.9401 38.3233,-45.3646\"/>\n<polygon fill=\"#000000\" stroke=\"#000000\" points=\"41.5073,-43.9053 34.4497,-36.0034 35.0392,-46.5818 41.5073,-43.9053\"/>\n<text text-anchor=\"middle\" x=\"56\" y=\"-57.8\" font-family=\"Times,serif\" font-size=\"14.00\" fill=\"#000000\">v1</text>\n</g>\n<!-- id_8be5418e674f4c659ed0ead678df82b2 -->\n<g id=\"node3\" class=\"node\">\n<title>id_8be5418e674f4c659ed0ead678df82b2</title>\n<text text-anchor=\"middle\" x=\"99\" y=\"-14.3\" font-family=\"Times,serif\" font-size=\"14.00\" fill=\"#000000\">True</text>\n</g>\n<!-- id_6313ef5bfaff4c68a29957fde666ebb2&#45;&gt;id_8be5418e674f4c659ed0ead678df82b2 -->\n<g id=\"edge2\" class=\"edge\">\n<title>id_6313ef5bfaff4c68a29957fde666ebb2&#45;&gt;id_8be5418e674f4c659ed0ead678df82b2</title>\n<path fill=\"none\" stroke=\"#000000\" d=\"M70.4592,-86.9735C75.431,-74.9585 82.0593,-58.9401 87.6767,-45.3646\"/>\n<polygon fill=\"#000000\" stroke=\"#000000\" points=\"90.9608,-46.5818 91.5503,-36.0034 84.4927,-43.9053 90.9608,-46.5818\"/>\n<text text-anchor=\"middle\" x=\"91\" y=\"-57.8\" font-family=\"Times,serif\" font-size=\"14.00\" fill=\"#000000\">v2</text>\n</g>\n</g>\n</svg>\n"
          },
          "metadata": {},
          "execution_count": 24
        }
      ]
    },
    {
      "cell_type": "markdown",
      "source": [
        "\n",
        "\n",
        "\n",
        "# [Extra Code] A simple tutorial on how to plot graphs using Graphviz\n"
      ],
      "metadata": {
        "id": "7dPONKUH1mYK"
      }
    },
    {
      "cell_type": "code",
      "source": [
        "#---------------------------\n",
        "# You can use graphviz to plot the trees\n",
        "#---------------------------\n",
        "\n",
        "import graphviz\n",
        "\n",
        "# 1. create graph object\n",
        "\n",
        "dot = graphviz.Digraph(comment='Decision Tree')\n",
        "\n",
        "# 2. Add nodes\n",
        "\n",
        "dot.node('P',label='Price',shape='box')\n",
        "dot.node('Y',label='low', shape='plaintext')\n",
        "dot.node('N',label='high', shape='plaintext')\n",
        "\n",
        "\n",
        "\n",
        "# 3. Add connections\n",
        "dot.edge('P','Y',label='')\n",
        "dot.edge('P','N',label='')\n",
        "\n",
        "\n",
        "# 4. Plot tree\n",
        "dot"
      ],
      "metadata": {
        "colab": {
          "base_uri": "https://localhost:8080/",
          "height": 176
        },
        "id": "pWhF9W681EK4",
        "outputId": "4861548e-ac24-49f7-8a8c-488f3d228f05"
      },
      "execution_count": 25,
      "outputs": [
        {
          "output_type": "execute_result",
          "data": {
            "text/plain": [
              "<graphviz.dot.Digraph at 0x7f6f80c93110>"
            ],
            "image/svg+xml": "<?xml version=\"1.0\" encoding=\"UTF-8\" standalone=\"no\"?>\n<!DOCTYPE svg PUBLIC \"-//W3C//DTD SVG 1.1//EN\"\n \"http://www.w3.org/Graphics/SVG/1.1/DTD/svg11.dtd\">\n<!-- Generated by graphviz version 2.40.1 (20161225.0304)\n -->\n<!-- Title: %3 Pages: 1 -->\n<svg width=\"134pt\" height=\"116pt\"\n viewBox=\"0.00 0.00 134.00 116.00\" xmlns=\"http://www.w3.org/2000/svg\" xmlns:xlink=\"http://www.w3.org/1999/xlink\">\n<g id=\"graph0\" class=\"graph\" transform=\"scale(1 1) rotate(0) translate(4 112)\">\n<title>%3</title>\n<polygon fill=\"#ffffff\" stroke=\"transparent\" points=\"-4,4 -4,-112 130,-112 130,4 -4,4\"/>\n<!-- P -->\n<g id=\"node1\" class=\"node\">\n<title>P</title>\n<polygon fill=\"none\" stroke=\"#000000\" points=\"90,-108 36,-108 36,-72 90,-72 90,-108\"/>\n<text text-anchor=\"middle\" x=\"63\" y=\"-86.3\" font-family=\"Times,serif\" font-size=\"14.00\" fill=\"#000000\">Price</text>\n</g>\n<!-- Y -->\n<g id=\"node2\" class=\"node\">\n<title>Y</title>\n<text text-anchor=\"middle\" x=\"27\" y=\"-14.3\" font-family=\"Times,serif\" font-size=\"14.00\" fill=\"#000000\">low</text>\n</g>\n<!-- P&#45;&gt;Y -->\n<g id=\"edge1\" class=\"edge\">\n<title>P&#45;&gt;Y</title>\n<path fill=\"none\" stroke=\"#000000\" d=\"M53.9157,-71.8314C49.9385,-63.8771 45.1845,-54.369 40.7861,-45.5723\"/>\n<polygon fill=\"#000000\" stroke=\"#000000\" points=\"43.8093,-43.7923 36.2066,-36.4133 37.5483,-46.9228 43.8093,-43.7923\"/>\n</g>\n<!-- N -->\n<g id=\"node3\" class=\"node\">\n<title>N</title>\n<text text-anchor=\"middle\" x=\"99\" y=\"-14.3\" font-family=\"Times,serif\" font-size=\"14.00\" fill=\"#000000\">high</text>\n</g>\n<!-- P&#45;&gt;N -->\n<g id=\"edge2\" class=\"edge\">\n<title>P&#45;&gt;N</title>\n<path fill=\"none\" stroke=\"#000000\" d=\"M72.0843,-71.8314C76.0615,-63.8771 80.8155,-54.369 85.2139,-45.5723\"/>\n<polygon fill=\"#000000\" stroke=\"#000000\" points=\"88.4517,-46.9228 89.7934,-36.4133 82.1907,-43.7923 88.4517,-46.9228\"/>\n</g>\n</g>\n</svg>\n"
          },
          "metadata": {},
          "execution_count": 25
        }
      ]
    }
  ]
}